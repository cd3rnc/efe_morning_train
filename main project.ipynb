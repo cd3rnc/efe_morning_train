{
 "cells": [
  {
   "cell_type": "markdown",
   "id": "32ca0d5d-d598-4335-b13d-109099a27c62",
   "metadata": {},
   "source": [
    "**course followed: https://www.youtube.com/watch?v=Xjv1sY630Uc&list=PLzMcBGfZo4-n40rB1XaJ0ak1bemvlqumQ **\n",
    "1. pip install selenium\n",
    "2. check your chrome version and install the correct chrome driver"
   ]
  },
  {
   "cell_type": "code",
   "execution_count": 1,
   "id": "025d7672-089f-479e-b554-469327959aeb",
   "metadata": {},
   "outputs": [],
   "source": [
    "import selenium"
   ]
  },
  {
   "cell_type": "code",
   "execution_count": null,
   "id": "19f85f27-e58f-4e84-ac48-61840e1dbfe2",
   "metadata": {},
   "outputs": [],
   "source": []
  },
  {
   "cell_type": "code",
   "execution_count": null,
   "id": "7b9d2b3a-a3ff-45fc-9a55-d04db5d5b506",
   "metadata": {},
   "outputs": [],
   "source": []
  },
  {
   "cell_type": "code",
   "execution_count": null,
   "id": "aee032cb-c758-4b6a-bcad-95fd311fd8ad",
   "metadata": {},
   "outputs": [],
   "source": []
  }
 ],
 "metadata": {
  "kernelspec": {
   "display_name": "Python 3 (ipykernel)",
   "language": "python",
   "name": "python3"
  },
  "language_info": {
   "codemirror_mode": {
    "name": "ipython",
    "version": 3
   },
   "file_extension": ".py",
   "mimetype": "text/x-python",
   "name": "python",
   "nbconvert_exporter": "python",
   "pygments_lexer": "ipython3",
   "version": "3.12.3"
  }
 },
 "nbformat": 4,
 "nbformat_minor": 5
}
